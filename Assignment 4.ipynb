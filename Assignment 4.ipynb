{
 "cells": [
  {
   "cell_type": "code",
   "execution_count": 1,
   "metadata": {},
   "outputs": [
    {
     "name": "stdout",
     "output_type": "stream",
     "text": [
      "VISHAL\n",
      "KUMAR\n",
      "27\n",
      "KARACHI\n"
     ]
    }
   ],
   "source": [
    "person = {\n",
    "    'first_name': 'VISHAL',\n",
    "    'last_name': 'KUMAR',\n",
    "    'age': 27,\n",
    "    'city': 'KARACHI',\n",
    "    }\n",
    "\n",
    "print(person['first_name'])\n",
    "print(person['last_name'])\n",
    "print(person['age'])\n",
    "print(person['city'])"
   ]
  },
  {
   "cell_type": "code",
   "execution_count": 2,
   "metadata": {},
   "outputs": [
    {
     "name": "stdout",
     "output_type": "stream",
     "text": [
      "VISHAL\n",
      "KUMAR\n",
      "27\n",
      "KARACHI\n",
      "Bachelors\n"
     ]
    }
   ],
   "source": [
    "person = {\n",
    "    'first_name': 'VISHAL',\n",
    "    'last_name': 'KUMAR',\n",
    "    'age': 27,\n",
    "    'city': 'KARACHI',\n",
    "    'Qualification': 'Bachelors',\n",
    "    }\n",
    "\n",
    "print(person['first_name'])\n",
    "print(person['last_name'])\n",
    "print(person['age'])\n",
    "print(person['city'])\n",
    "print(person['Qualification'])"
   ]
  },
  {
   "cell_type": "code",
   "execution_count": 3,
   "metadata": {},
   "outputs": [
    {
     "name": "stdout",
     "output_type": "stream",
     "text": [
      "\n",
      "Karachi is in Pakistan.\n",
      "  It has a population of about 500000.\n",
      "  The Kheerthar mountains are nearby.\n",
      "\n",
      "Khatmandu is in Nepal.\n",
      "  It has a population of about 203000.\n",
      "  The Himalya Range mountains are nearby.\n",
      "\n",
      "Athens is in Greece.\n",
      "  It has a population of about 1000022.\n",
      "  The K2 Range mountains are nearby.\n"
     ]
    }
   ],
   "source": [
    "cities = {\n",
    "    'Karachi': {\n",
    "        'country': 'Pakistan',\n",
    "        'population': 500000,\n",
    "        'nearby mountains': 'Kheerthar',\n",
    "        },\n",
    "    'Khatmandu': {\n",
    "        'country': 'Nepal',\n",
    "        'population': 203000,\n",
    "        'nearby mountains': 'Himalya range',\n",
    "        },\n",
    "    'Athens': {\n",
    "        'country': 'Greece',\n",
    "        'population': 1000022,\n",
    "        'nearby mountains': 'K2 Range',\n",
    "        }\n",
    "    }\n",
    "\n",
    "for city, city_info in cities.items():\n",
    "    country = city_info['country'].title()\n",
    "    population = city_info['population']\n",
    "    mountains = city_info['nearby mountains'].title()\n",
    "\n",
    "    print(\"\\n\" + city.title() + \" is in \" + country + \".\")\n",
    "    print(\"  It has a population of about \" + str(population) + \".\")\n",
    "    print(\"  The \" + mountains + \" mountains are nearby.\")"
   ]
  },
  {
   "cell_type": "code",
   "execution_count": 4,
   "metadata": {},
   "outputs": [
    {
     "name": "stdout",
     "output_type": "stream",
     "text": [
      "How old are you?\n",
      "Enter 'quit' when you are finished. 27\n",
      "  Your ticket is $15.\n",
      "How old are you?\n",
      "Enter 'quit' when you are finished. 19\n",
      "  Your ticket is $15.\n",
      "How old are you?\n",
      "Enter 'quit' when you are finished. 12\n",
      "  Your ticket is $10.\n",
      "How old are you?\n",
      "Enter 'quit' when you are finished. quit\n"
     ]
    }
   ],
   "source": [
    "prompt = \"How old are you?\"\n",
    "prompt += \"\\nEnter 'quit' when you are finished. \"\n",
    "\n",
    "while True:\n",
    "    age = input(prompt)\n",
    "    if age == 'quit':\n",
    "        break\n",
    "    age = int(age)\n",
    "\n",
    "    if age < 3:\n",
    "        print(\"  You get in free!\")\n",
    "    elif age < 13:\n",
    "        print(\"  Your ticket is $10.\")\n",
    "    else:\n",
    "        print(\"  Your ticket is $15.\")"
   ]
  },
  {
   "cell_type": "code",
   "execution_count": 5,
   "metadata": {},
   "outputs": [
    {
     "name": "stdout",
     "output_type": "stream",
     "text": [
      "The Girl in the River is one of my favorite books.\n"
     ]
    }
   ],
   "source": [
    "def favorite_book(title):\n",
    "    \n",
    "    print(title + \" is one of my favorite books.\")\n",
    "\n",
    "favorite_book('The Girl in the River')"
   ]
  },
  {
   "cell_type": "code",
   "execution_count": 6,
   "metadata": {},
   "outputs": [
    {
     "name": "stdout",
     "output_type": "stream",
     "text": [
      "16\n",
      "Please enter your guess: 1\n",
      "Your guess is Smaller\n"
     ]
    }
   ],
   "source": [
    "import random\n",
    " \n",
    "hidden = random.randrange(1, 30)\n",
    "print(hidden)\n",
    " \n",
    "guess = int(input(\"Please enter your guess: \"))\n",
    " \n",
    "if guess == hidden:\n",
    "    print(\"Hit!\")\n",
    "elif guess < hidden:\n",
    "    print(\"Your guess is Smaller\")\n",
    "else:\n",
    "    print(\"Your guess is Larger\")"
   ]
  },
  {
   "cell_type": "code",
   "execution_count": null,
   "metadata": {},
   "outputs": [],
   "source": []
  }
 ],
 "metadata": {
  "kernelspec": {
   "display_name": "Python 3",
   "language": "python",
   "name": "python3"
  },
  "language_info": {
   "codemirror_mode": {
    "name": "ipython",
    "version": 3
   },
   "file_extension": ".py",
   "mimetype": "text/x-python",
   "name": "python",
   "nbconvert_exporter": "python",
   "pygments_lexer": "ipython3",
   "version": "3.7.4"
  }
 },
 "nbformat": 4,
 "nbformat_minor": 2
}
